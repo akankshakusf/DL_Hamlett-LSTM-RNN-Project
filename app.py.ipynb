{
  "nbformat": 4,
  "nbformat_minor": 0,
  "metadata": {
    "colab": {
      "provenance": [],
      "mount_file_id": "1C1_UGiE6zO_41RDRBfcOkDGiuVKj7gTi",
      "authorship_tag": "ABX9TyPcKgWx5BQZiKLi7fY/eZpa",
      "include_colab_link": true
    },
    "kernelspec": {
      "name": "python3",
      "display_name": "Python 3"
    },
    "language_info": {
      "name": "python"
    }
  },
  "cells": [
    {
      "cell_type": "markdown",
      "metadata": {
        "id": "view-in-github",
        "colab_type": "text"
      },
      "source": [
        "<a href=\"https://colab.research.google.com/github/akankshakusf/DL_LSTM-RNN-Project/blob/master/app.py.ipynb\" target=\"_parent\"><img src=\"https://colab.research.google.com/assets/colab-badge.svg\" alt=\"Open In Colab\"/></a>"
      ]
    },
    {
      "cell_type": "code",
      "execution_count": 41,
      "metadata": {
        "colab": {
          "base_uri": "https://localhost:8080/"
        },
        "id": "WrXCWoAkgr6K",
        "outputId": "fc3ad1c5-b79c-45ed-c8e2-7ce32eee2f02"
      },
      "outputs": [
        {
          "output_type": "stream",
          "name": "stdout",
          "text": [
            "Overwriting app.py\n"
          ]
        }
      ],
      "source": [
        "# Import packages\n",
        "import streamlit as st\n",
        "import numpy as np\n",
        "import pickle\n",
        "from tensorflow.keras.models import load_model\n",
        "from tensorflow.keras.preprocessing.sequence import pad_sequences\n",
        "\n",
        "# Load the LSTM model\n",
        "model = load_model('/content/drive/MyDrive/Colab Notebooks/DL_LSTM_RNN Project/next_word_lstm.keras')\n",
        "\n",
        "# Load the tokenizer\n",
        "with open('/content/drive/MyDrive/Colab Notebooks/DL_LSTM_RNN Project/tokenizer.pkl', 'rb') as handle:\n",
        "    tokenizer = pickle.load(handle)\n",
        "\n",
        "# Function to predict the next word based on input text\n",
        "def predict_next_word(model, tokenizer, text, max_sequence_len):\n",
        "    token_list = tokenizer.texts_to_sequences([text])[0]\n",
        "\n",
        "    if len(token_list) >= max_sequence_len:\n",
        "        token_list = token_list[-(max_sequence_len - 1):]\n",
        "\n",
        "    token_list = pad_sequences([token_list], maxlen=max_sequence_len-1, padding='pre')\n",
        "    predicted = model.predict(token_list, verbose=0)\n",
        "    predicted_word_index = np.argmax(predicted, axis=1)\n",
        "\n",
        "    for word, index in tokenizer.word_index.items():\n",
        "        if index == predicted_word_index:\n",
        "            return word\n",
        "\n",
        "    return None\n",
        "\n",
        "# Streamlit App UI\n",
        "st.title('Next Word Prediction with LSTM')\n",
        "input_text = st.text_input(\"Enter a sequence of words:\", \"To be or not to be\")\n",
        "\n",
        "if st.button(\"Predict Next Word\"):\n",
        "    max_sequence_len = model.input_shape[1] + 1\n",
        "    next_word = predict_next_word(model, tokenizer, input_text, max_sequence_len)\n",
        "    st.write(f'Next Word: **{next_word}**')\n",
        "\n",
        "\n"
      ]
    },
    {
      "cell_type": "code",
      "source": [],
      "metadata": {
        "id": "uSCqOHBt2Qbu"
      },
      "execution_count": null,
      "outputs": []
    }
  ]
}